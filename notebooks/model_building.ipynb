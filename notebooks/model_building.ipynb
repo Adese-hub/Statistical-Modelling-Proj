{
 "cells": [
  {
   "cell_type": "markdown",
   "metadata": {},
   "source": [
    "Build a regression model."
   ]
  },
  {
   "cell_type": "code",
   "execution_count": 1,
   "metadata": {},
   "outputs": [
    {
     "name": "stderr",
     "output_type": "stream",
     "text": [
      "/var/folders/63/d8v7zgcx0mxg0c0j6qhp5ln00000gn/T/ipykernel_3873/3179697687.py:1: DeprecationWarning: \n",
      "Pyarrow will become a required dependency of pandas in the next major release of pandas (pandas 3.0),\n",
      "(to allow more performant data types, such as the Arrow string type, and better interoperability with other libraries)\n",
      "but was not found to be installed on your system.\n",
      "If this would cause problems for you,\n",
      "please provide us feedback at https://github.com/pandas-dev/pandas/issues/54466\n",
      "        \n",
      "  import pandas as pd\n"
     ]
    },
    {
     "data": {
      "text/html": [
       "<div>\n",
       "<style scoped>\n",
       "    .dataframe tbody tr th:only-of-type {\n",
       "        vertical-align: middle;\n",
       "    }\n",
       "\n",
       "    .dataframe tbody tr th {\n",
       "        vertical-align: top;\n",
       "    }\n",
       "\n",
       "    .dataframe thead th {\n",
       "        text-align: right;\n",
       "    }\n",
       "</style>\n",
       "<table border=\"1\" class=\"dataframe\">\n",
       "  <thead>\n",
       "    <tr style=\"text-align: right;\">\n",
       "      <th></th>\n",
       "      <th>Average_rating_F</th>\n",
       "      <th>Average_dist_F</th>\n",
       "      <th>Average_rating_Y</th>\n",
       "      <th>Average_distance_Y</th>\n",
       "      <th>Free Bikes</th>\n",
       "    </tr>\n",
       "  </thead>\n",
       "  <tbody>\n",
       "    <tr>\n",
       "      <th>0</th>\n",
       "      <td>8.06</td>\n",
       "      <td>926.8</td>\n",
       "      <td>4.435000</td>\n",
       "      <td>879.335943</td>\n",
       "      <td>0</td>\n",
       "    </tr>\n",
       "    <tr>\n",
       "      <th>1</th>\n",
       "      <td>9.26</td>\n",
       "      <td>560.7</td>\n",
       "      <td>4.725000</td>\n",
       "      <td>532.596303</td>\n",
       "      <td>2</td>\n",
       "    </tr>\n",
       "    <tr>\n",
       "      <th>2</th>\n",
       "      <td>8.09</td>\n",
       "      <td>755.9</td>\n",
       "      <td>4.465000</td>\n",
       "      <td>919.578830</td>\n",
       "      <td>1</td>\n",
       "    </tr>\n",
       "    <tr>\n",
       "      <th>3</th>\n",
       "      <td>6.80</td>\n",
       "      <td>814.2</td>\n",
       "      <td>4.495000</td>\n",
       "      <td>1107.131736</td>\n",
       "      <td>0</td>\n",
       "    </tr>\n",
       "    <tr>\n",
       "      <th>4</th>\n",
       "      <td>8.07</td>\n",
       "      <td>852.0</td>\n",
       "      <td>4.520000</td>\n",
       "      <td>901.395749</td>\n",
       "      <td>2</td>\n",
       "    </tr>\n",
       "    <tr>\n",
       "      <th>...</th>\n",
       "      <td>...</td>\n",
       "      <td>...</td>\n",
       "      <td>...</td>\n",
       "      <td>...</td>\n",
       "      <td>...</td>\n",
       "    </tr>\n",
       "    <tr>\n",
       "      <th>266</th>\n",
       "      <td>8.91</td>\n",
       "      <td>761.8</td>\n",
       "      <td>4.395000</td>\n",
       "      <td>888.110170</td>\n",
       "      <td>0</td>\n",
       "    </tr>\n",
       "    <tr>\n",
       "      <th>267</th>\n",
       "      <td>6.46</td>\n",
       "      <td>599.5</td>\n",
       "      <td>3.420000</td>\n",
       "      <td>443.417944</td>\n",
       "      <td>0</td>\n",
       "    </tr>\n",
       "    <tr>\n",
       "      <th>268</th>\n",
       "      <td>7.85</td>\n",
       "      <td>843.5</td>\n",
       "      <td>4.015000</td>\n",
       "      <td>1014.164561</td>\n",
       "      <td>0</td>\n",
       "    </tr>\n",
       "    <tr>\n",
       "      <th>269</th>\n",
       "      <td>7.50</td>\n",
       "      <td>501.3</td>\n",
       "      <td>3.714286</td>\n",
       "      <td>641.720977</td>\n",
       "      <td>0</td>\n",
       "    </tr>\n",
       "    <tr>\n",
       "      <th>270</th>\n",
       "      <td>NaN</td>\n",
       "      <td>429.3</td>\n",
       "      <td>4.365000</td>\n",
       "      <td>1142.136471</td>\n",
       "      <td>1</td>\n",
       "    </tr>\n",
       "  </tbody>\n",
       "</table>\n",
       "<p>271 rows × 5 columns</p>\n",
       "</div>"
      ],
      "text/plain": [
       "     Average_rating_F  Average_dist_F  Average_rating_Y  Average_distance_Y  \\\n",
       "0                8.06           926.8          4.435000          879.335943   \n",
       "1                9.26           560.7          4.725000          532.596303   \n",
       "2                8.09           755.9          4.465000          919.578830   \n",
       "3                6.80           814.2          4.495000         1107.131736   \n",
       "4                8.07           852.0          4.520000          901.395749   \n",
       "..                ...             ...               ...                 ...   \n",
       "266              8.91           761.8          4.395000          888.110170   \n",
       "267              6.46           599.5          3.420000          443.417944   \n",
       "268              7.85           843.5          4.015000         1014.164561   \n",
       "269              7.50           501.3          3.714286          641.720977   \n",
       "270               NaN           429.3          4.365000         1142.136471   \n",
       "\n",
       "     Free Bikes  \n",
       "0             0  \n",
       "1             2  \n",
       "2             1  \n",
       "3             0  \n",
       "4             2  \n",
       "..          ...  \n",
       "266           0  \n",
       "267           0  \n",
       "268           0  \n",
       "269           0  \n",
       "270           1  \n",
       "\n",
       "[271 rows x 5 columns]"
      ]
     },
     "execution_count": 1,
     "metadata": {},
     "output_type": "execute_result"
    }
   ],
   "source": [
    "import pandas as pd\n",
    "import seaborn as sns\n",
    "import matplotlib.pyplot as plt\n",
    "import statsmodels.api as sm\n",
    "\n",
    "df_features = pd.read_csv(\"../data/features.csv\")\n",
    "df_features"
   ]
  },
  {
   "cell_type": "code",
   "execution_count": 2,
   "metadata": {},
   "outputs": [
    {
     "data": {
      "text/html": [
       "<div>\n",
       "<style scoped>\n",
       "    .dataframe tbody tr th:only-of-type {\n",
       "        vertical-align: middle;\n",
       "    }\n",
       "\n",
       "    .dataframe tbody tr th {\n",
       "        vertical-align: top;\n",
       "    }\n",
       "\n",
       "    .dataframe thead th {\n",
       "        text-align: right;\n",
       "    }\n",
       "</style>\n",
       "<table border=\"1\" class=\"dataframe\">\n",
       "  <thead>\n",
       "    <tr style=\"text-align: right;\">\n",
       "      <th></th>\n",
       "      <th>Average_rating_F</th>\n",
       "      <th>Average_dist_F</th>\n",
       "      <th>Average_rating_Y</th>\n",
       "      <th>Average_distance_Y</th>\n",
       "      <th>Free Bikes</th>\n",
       "    </tr>\n",
       "  </thead>\n",
       "  <tbody>\n",
       "    <tr>\n",
       "      <th>Average_rating_F</th>\n",
       "      <td>1.000000</td>\n",
       "      <td>-0.225358</td>\n",
       "      <td>0.806357</td>\n",
       "      <td>-0.204887</td>\n",
       "      <td>0.059609</td>\n",
       "    </tr>\n",
       "    <tr>\n",
       "      <th>Average_dist_F</th>\n",
       "      <td>-0.225358</td>\n",
       "      <td>1.000000</td>\n",
       "      <td>-0.078681</td>\n",
       "      <td>0.484806</td>\n",
       "      <td>0.017175</td>\n",
       "    </tr>\n",
       "    <tr>\n",
       "      <th>Average_rating_Y</th>\n",
       "      <td>0.806357</td>\n",
       "      <td>-0.078681</td>\n",
       "      <td>1.000000</td>\n",
       "      <td>-0.098209</td>\n",
       "      <td>0.081159</td>\n",
       "    </tr>\n",
       "    <tr>\n",
       "      <th>Average_distance_Y</th>\n",
       "      <td>-0.204887</td>\n",
       "      <td>0.484806</td>\n",
       "      <td>-0.098209</td>\n",
       "      <td>1.000000</td>\n",
       "      <td>-0.038748</td>\n",
       "    </tr>\n",
       "    <tr>\n",
       "      <th>Free Bikes</th>\n",
       "      <td>0.059609</td>\n",
       "      <td>0.017175</td>\n",
       "      <td>0.081159</td>\n",
       "      <td>-0.038748</td>\n",
       "      <td>1.000000</td>\n",
       "    </tr>\n",
       "  </tbody>\n",
       "</table>\n",
       "</div>"
      ],
      "text/plain": [
       "                    Average_rating_F  Average_dist_F  Average_rating_Y  \\\n",
       "Average_rating_F            1.000000       -0.225358          0.806357   \n",
       "Average_dist_F             -0.225358        1.000000         -0.078681   \n",
       "Average_rating_Y            0.806357       -0.078681          1.000000   \n",
       "Average_distance_Y         -0.204887        0.484806         -0.098209   \n",
       "Free Bikes                  0.059609        0.017175          0.081159   \n",
       "\n",
       "                    Average_distance_Y  Free Bikes  \n",
       "Average_rating_F             -0.204887    0.059609  \n",
       "Average_dist_F                0.484806    0.017175  \n",
       "Average_rating_Y             -0.098209    0.081159  \n",
       "Average_distance_Y            1.000000   -0.038748  \n",
       "Free Bikes                   -0.038748    1.000000  "
      ]
     },
     "execution_count": 2,
     "metadata": {},
     "output_type": "execute_result"
    }
   ],
   "source": [
    "correlation_matrix = df_features.corr(numeric_only=True)\n",
    "correlation_matrix"
   ]
  },
  {
   "cell_type": "code",
   "execution_count": 4,
   "metadata": {},
   "outputs": [
    {
     "data": {
      "text/html": [
       "<div>\n",
       "<style scoped>\n",
       "    .dataframe tbody tr th:only-of-type {\n",
       "        vertical-align: middle;\n",
       "    }\n",
       "\n",
       "    .dataframe tbody tr th {\n",
       "        vertical-align: top;\n",
       "    }\n",
       "\n",
       "    .dataframe thead th {\n",
       "        text-align: right;\n",
       "    }\n",
       "</style>\n",
       "<table border=\"1\" class=\"dataframe\">\n",
       "  <thead>\n",
       "    <tr style=\"text-align: right;\">\n",
       "      <th></th>\n",
       "      <th>const</th>\n",
       "      <th>Average_distance_Y</th>\n",
       "      <th>Average_rating_F</th>\n",
       "      <th>Average_dist_F</th>\n",
       "    </tr>\n",
       "  </thead>\n",
       "  <tbody>\n",
       "    <tr>\n",
       "      <th>0</th>\n",
       "      <td>1.0</td>\n",
       "      <td>879.335943</td>\n",
       "      <td>8.06</td>\n",
       "      <td>926.8</td>\n",
       "    </tr>\n",
       "    <tr>\n",
       "      <th>1</th>\n",
       "      <td>1.0</td>\n",
       "      <td>532.596303</td>\n",
       "      <td>9.26</td>\n",
       "      <td>560.7</td>\n",
       "    </tr>\n",
       "    <tr>\n",
       "      <th>2</th>\n",
       "      <td>1.0</td>\n",
       "      <td>919.578830</td>\n",
       "      <td>8.09</td>\n",
       "      <td>755.9</td>\n",
       "    </tr>\n",
       "    <tr>\n",
       "      <th>3</th>\n",
       "      <td>1.0</td>\n",
       "      <td>1107.131736</td>\n",
       "      <td>6.80</td>\n",
       "      <td>814.2</td>\n",
       "    </tr>\n",
       "    <tr>\n",
       "      <th>4</th>\n",
       "      <td>1.0</td>\n",
       "      <td>901.395749</td>\n",
       "      <td>8.07</td>\n",
       "      <td>852.0</td>\n",
       "    </tr>\n",
       "  </tbody>\n",
       "</table>\n",
       "</div>"
      ],
      "text/plain": [
       "   const  Average_distance_Y  Average_rating_F  Average_dist_F\n",
       "0    1.0          879.335943              8.06           926.8\n",
       "1    1.0          532.596303              9.26           560.7\n",
       "2    1.0          919.578830              8.09           755.9\n",
       "3    1.0         1107.131736              6.80           814.2\n",
       "4    1.0          901.395749              8.07           852.0"
      ]
     },
     "execution_count": 4,
     "metadata": {},
     "output_type": "execute_result"
    }
   ],
   "source": [
    "y = df_features['Free Bikes']\n",
    "X = df_features[['Average_distance_Y', 'Average_rating_F', 'Average_dist_F']]\n",
    "X = sm.add_constant(X)  # adds a column of 1's for the intercept\n",
    "X.head()"
   ]
  },
  {
   "cell_type": "code",
   "execution_count": 7,
   "metadata": {},
   "outputs": [
    {
     "name": "stdout",
     "output_type": "stream",
     "text": [
      "0\n",
      "const                  0\n",
      "Average_distance_Y     0\n",
      "Average_rating_F      30\n",
      "Average_dist_F         0\n",
      "dtype: int64\n",
      "0\n",
      "const                 0\n",
      "Average_distance_Y    0\n",
      "Average_rating_F      0\n",
      "Average_dist_F        0\n",
      "dtype: int64\n"
     ]
    }
   ],
   "source": [
    "import numpy as np\n",
    "\n",
    "# Check for missing values\n",
    "print(y.isna().sum())\n",
    "print(X.isna().sum())\n",
    "\n",
    "# Check for infinite values\n",
    "print(y.isin([np.inf, -np.inf]).sum())\n",
    "print(X.isin([np.inf, -np.inf]).sum())"
   ]
  },
  {
   "cell_type": "code",
   "execution_count": 9,
   "metadata": {},
   "outputs": [],
   "source": [
    "# Combine y and X, drop rows with NaN, and then split them again\n",
    "combined_df = pd.concat([y, X], axis=1)\n",
    "cleaned_df = combined_df.dropna()\n",
    "y_clean = cleaned_df['Free Bikes']\n",
    "X_clean = cleaned_df.drop('Free Bikes', axis=1)\n"
   ]
  },
  {
   "cell_type": "code",
   "execution_count": 11,
   "metadata": {},
   "outputs": [],
   "source": [
    "model = sm.OLS(y_clean, X_clean)\n",
    "results = model.fit()"
   ]
  },
  {
   "cell_type": "markdown",
   "metadata": {},
   "source": [
    "Provide model output and an interpretation of the results. "
   ]
  },
  {
   "cell_type": "code",
   "execution_count": 12,
   "metadata": {},
   "outputs": [
    {
     "name": "stdout",
     "output_type": "stream",
     "text": [
      "                            OLS Regression Results                            \n",
      "==============================================================================\n",
      "Dep. Variable:             Free Bikes   R-squared:                       0.006\n",
      "Model:                            OLS   Adj. R-squared:                 -0.007\n",
      "Method:                 Least Squares   F-statistic:                    0.4426\n",
      "Date:                Wed, 14 Feb 2024   Prob (F-statistic):              0.723\n",
      "Time:                        01:00:34   Log-Likelihood:                -620.80\n",
      "No. Observations:                 241   AIC:                             1250.\n",
      "Df Residuals:                     237   BIC:                             1264.\n",
      "Df Model:                           3                                         \n",
      "Covariance Type:            nonrobust                                         \n",
      "======================================================================================\n",
      "                         coef    std err          t      P>|t|      [0.025      0.975]\n",
      "--------------------------------------------------------------------------------------\n",
      "const                 -0.1012      2.505     -0.040      0.968      -5.036       4.833\n",
      "Average_distance_Y    -0.0008      0.002     -0.415      0.679      -0.004       0.003\n",
      "Average_rating_F       0.2335      0.237      0.987      0.325      -0.233       0.700\n",
      "Average_dist_F         0.0014      0.002      0.692      0.489      -0.003       0.005\n",
      "==============================================================================\n",
      "Omnibus:                      100.614   Durbin-Watson:                   1.975\n",
      "Prob(Omnibus):                  0.000   Jarque-Bera (JB):              289.856\n",
      "Skew:                           1.890   Prob(JB):                     1.14e-63\n",
      "Kurtosis:                       6.819   Cond. No.                     1.26e+04\n",
      "==============================================================================\n",
      "\n",
      "Notes:\n",
      "[1] Standard Errors assume that the covariance matrix of the errors is correctly specified.\n",
      "[2] The condition number is large, 1.26e+04. This might indicate that there are\n",
      "strong multicollinearity or other numerical problems.\n"
     ]
    }
   ],
   "source": [
    "print(results.summary())"
   ]
  },
  {
   "cell_type": "code",
   "execution_count": 13,
   "metadata": {},
   "outputs": [],
   "source": [
    "#The OLS regression model, aimed at predicting the number of free bikes based on factors like average distance and rating, exhibits a low explanatory power, as indicated by an R-squared value of just 0.006. This suggests that only a tiny fraction of the variability in 'Free Bikes' is accounted for by the model. Furthermore, the model's overall statistical insignificance, highlighted by a high Prob (F-statistic) value of 0.723, implies that the independent variables used may not be the right predictors for the number of free bikes.\n",
    "\n",
    "#The coefficients of the independent variables are near zero, indicating minimal influence on the dependent variable. Moreover, the high p-values for these coefficients suggest that they are not statistically significant predictors. This is further supported by the wide confidence intervals, implying uncertainty about the coefficient estimates. The diagnostics indicate potential issues like non-normality of residuals and multicollinearity. Overall, these findings point towards the need for re-evaluating the model choice, the predictors used, or possibly incorporating additional relevant variables for a more accurate and reliable predictive model."
   ]
  },
  {
   "cell_type": "code",
   "execution_count": 14,
   "metadata": {},
   "outputs": [
    {
     "data": {
      "image/png": "[encoded data removed]",
      "text/plain": [
       "<Figure size 640x480 with 1 Axes>"
      ]
     },
     "metadata": {},
     "output_type": "display_data"
    }
   ],
   "source": [
    "residuals = results.resid\n",
    "\n",
    "sns.histplot(residuals)\n",
    "plt.show()"
   ]
  },
  {
   "cell_type": "code",
   "execution_count": 15,
   "metadata": {},
   "outputs": [
    {
     "data": {
      "text/plain": [
       "const                -0.101245\n",
       "Average_distance_Y   -0.000762\n",
       "Average_rating_F      0.233520\n",
       "Average_dist_F        0.001401\n",
       "dtype: float64"
      ]
     },
     "execution_count": 15,
     "metadata": {},
     "output_type": "execute_result"
    }
   ],
   "source": [
    "results.params"
   ]
  },
  {
   "cell_type": "code",
   "execution_count": 16,
   "metadata": {},
   "outputs": [
    {
     "data": {
      "text/plain": [
       "2.6435219540240373"
      ]
     },
     "execution_count": 16,
     "metadata": {},
     "output_type": "execute_result"
    }
   ],
   "source": [
    "# The model equation for prediction is: number_of_bikes = b0 + b1*known_distance_Y + b2*known_rating + b3*known_dist_F\n",
    "\n",
    "b0 = results.params['const']\n",
    "b1 = results.params['Average_distance_Y']\n",
    "b2 = results.params['Average_rating_F']\n",
    "b3 = results.params['Average_dist_F']\n",
    "\n",
    "known_distance_Y = 585\n",
    "known_rating = 9\n",
    "known_dist_F = 777\n",
    "predicted_num_bikes = b0 + b1*known_distance_Y + b2*known_rating + b3*known_dist_F\n",
    "predicted_num_bikes"
   ]
  },
  {
   "cell_type": "markdown",
   "metadata": {},
   "source": [
    "# Stretch"
   ]
  },
  {
   "cell_type": "markdown",
   "metadata": {},
   "source": [
    "How can you turn the regression model into a classification model?"
   ]
  },
  {
   "cell_type": "code",
   "execution_count": null,
   "metadata": {},
   "outputs": [],
   "source": []
  }
 ],
 "metadata": {
  "kernelspec": {
   "display_name": "Python 3 (ipykernel)",
   "language": "python",
   "name": "python3"
  },
  "language_info": {
   "codemirror_mode": {
    "name": "ipython",
    "version": 3
   },
   "file_extension": ".py",
   "mimetype": "text/x-python",
   "name": "python",
   "nbconvert_exporter": "python",
   "pygments_lexer": "ipython3",
   "version": "3.10.13"
  }
 },
 "nbformat": 4,
 "nbformat_minor": 4
}
