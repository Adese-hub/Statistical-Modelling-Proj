{
 "cells": [
  {
   "cell_type": "markdown",
   "metadata": {},
   "source": [
    "# CityBikes"
   ]
  },
  {
   "cell_type": "markdown",
   "metadata": {},
   "source": [
    "Send a request to CityBikes for the city of your choice. "
   ]
  },
  {
   "cell_type": "code",
   "execution_count": 1,
   "metadata": {},
   "outputs": [
    {
     "name": "stderr",
     "output_type": "stream",
     "text": [
      "/var/folders/63/d8v7zgcx0mxg0c0j6qhp5ln00000gn/T/ipykernel_1773/2540132653.py:2: DeprecationWarning: \n",
      "Pyarrow will become a required dependency of pandas in the next major release of pandas (pandas 3.0),\n",
      "(to allow more performant data types, such as the Arrow string type, and better interoperability with other libraries)\n",
      "but was not found to be installed on your system.\n",
      "If this would cause problems for you,\n",
      "please provide us feedback at https://github.com/pandas-dev/pandas/issues/54466\n",
      "        \n",
      "  import pandas as pd\n"
     ]
    }
   ],
   "source": [
    "import requests\n",
    "import pandas as pd\n",
    "\n",
    "#URL of the API endpoint\n",
    "url = 'http://api.citybik.es/v2/networks/santander-cycles'\n",
    "\n",
    "#Get request to the API\n",
    "response = requests.get(url)\n"
   ]
  },
  {
   "cell_type": "markdown",
   "metadata": {},
   "source": [
    "Parse through the response to get the details you want for the bike stations in that city (latitude, longitude, number of bikes). "
   ]
  },
  {
   "cell_type": "code",
   "execution_count": 2,
   "metadata": {},
   "outputs": [],
   "source": [
    "# Check if the request was successful (status code 200 means successful)\n",
    "if response.status_code != 200:\n",
    "    print(\"Request failed. Status code:\", response.status_code)\n",
    "else:\n",
    "    # Parse the JSON response\n",
    "    data = response.json()\n",
    "    \n",
    "    # Extract station details\n",
    "    stations = data['network']['stations']\n",
    "    \n",
    "    # Create lists to store extracted details\n",
    "    name = []\n",
    "    latitudes = []\n",
    "    longitudes = []\n",
    "    free_bikes = []\n",
    "    \n",
    "    # Iterate through each station and extract details\n",
    "    for station in stations:\n",
    "        name.append(station['name'])\n",
    "        latitudes.append(station['latitude'])\n",
    "        longitudes.append(station['longitude'])\n",
    "        free_bikes.append(station['free_bikes'])"
   ]
  },
  {
   "cell_type": "markdown",
   "metadata": {},
   "source": [
    "Put your parsed results into a DataFrame."
   ]
  },
  {
   "cell_type": "code",
   "execution_count": 3,
   "metadata": {},
   "outputs": [
    {
     "data": {
      "text/html": [
       "<div>\n",
       "<style scoped>\n",
       "    .dataframe tbody tr th:only-of-type {\n",
       "        vertical-align: middle;\n",
       "    }\n",
       "\n",
       "    .dataframe tbody tr th {\n",
       "        vertical-align: top;\n",
       "    }\n",
       "\n",
       "    .dataframe thead th {\n",
       "        text-align: right;\n",
       "    }\n",
       "</style>\n",
       "<table border=\"1\" class=\"dataframe\">\n",
       "  <thead>\n",
       "    <tr style=\"text-align: right;\">\n",
       "      <th></th>\n",
       "      <th>Station Name</th>\n",
       "      <th>Latitude</th>\n",
       "      <th>Longitude</th>\n",
       "      <th>Free Bikes</th>\n",
       "    </tr>\n",
       "  </thead>\n",
       "  <tbody>\n",
       "    <tr>\n",
       "      <th>0</th>\n",
       "      <td>001023 - River Street , Clerkenwell</td>\n",
       "      <td>51.529163</td>\n",
       "      <td>-0.109971</td>\n",
       "      <td>12</td>\n",
       "    </tr>\n",
       "    <tr>\n",
       "      <th>1</th>\n",
       "      <td>001018 - Phillimore Gardens, Kensington</td>\n",
       "      <td>51.499607</td>\n",
       "      <td>-0.197574</td>\n",
       "      <td>36</td>\n",
       "    </tr>\n",
       "    <tr>\n",
       "      <th>2</th>\n",
       "      <td>001024 - Park Street, Bankside</td>\n",
       "      <td>51.505974</td>\n",
       "      <td>-0.092754</td>\n",
       "      <td>1</td>\n",
       "    </tr>\n",
       "    <tr>\n",
       "      <th>3</th>\n",
       "      <td>001022 - Brunswick Square, Bloomsbury</td>\n",
       "      <td>51.523951</td>\n",
       "      <td>-0.122502</td>\n",
       "      <td>19</td>\n",
       "    </tr>\n",
       "    <tr>\n",
       "      <th>4</th>\n",
       "      <td>000980 - Malet Street, Bloomsbury</td>\n",
       "      <td>51.521681</td>\n",
       "      <td>-0.130432</td>\n",
       "      <td>24</td>\n",
       "    </tr>\n",
       "    <tr>\n",
       "      <th>...</th>\n",
       "      <td>...</td>\n",
       "      <td>...</td>\n",
       "      <td>...</td>\n",
       "      <td>...</td>\n",
       "    </tr>\n",
       "    <tr>\n",
       "      <th>792</th>\n",
       "      <td>003444 - Penywern Road, Earl's Court</td>\n",
       "      <td>51.491594</td>\n",
       "      <td>-0.192369</td>\n",
       "      <td>0</td>\n",
       "    </tr>\n",
       "    <tr>\n",
       "      <th>793</th>\n",
       "      <td>003465 - Eccleston Place, Victoria</td>\n",
       "      <td>51.493951</td>\n",
       "      <td>-0.147624</td>\n",
       "      <td>8</td>\n",
       "    </tr>\n",
       "    <tr>\n",
       "      <th>794</th>\n",
       "      <td>200209 - Shepherd's Bush Road North, Shepherd'...</td>\n",
       "      <td>51.501595</td>\n",
       "      <td>-0.222293</td>\n",
       "      <td>27</td>\n",
       "    </tr>\n",
       "    <tr>\n",
       "      <th>795</th>\n",
       "      <td>001164 - Portland Place, Marylebone</td>\n",
       "      <td>51.520715</td>\n",
       "      <td>-0.145212</td>\n",
       "      <td>4</td>\n",
       "    </tr>\n",
       "    <tr>\n",
       "      <th>796</th>\n",
       "      <td>200106 - Spanish Road, Clapham Junction</td>\n",
       "      <td>51.459225</td>\n",
       "      <td>-0.180885</td>\n",
       "      <td>18</td>\n",
       "    </tr>\n",
       "  </tbody>\n",
       "</table>\n",
       "<p>797 rows × 4 columns</p>\n",
       "</div>"
      ],
      "text/plain": [
       "                                          Station Name   Latitude  Longitude  \\\n",
       "0                  001023 - River Street , Clerkenwell  51.529163  -0.109971   \n",
       "1              001018 - Phillimore Gardens, Kensington  51.499607  -0.197574   \n",
       "2                       001024 - Park Street, Bankside  51.505974  -0.092754   \n",
       "3                001022 - Brunswick Square, Bloomsbury  51.523951  -0.122502   \n",
       "4                    000980 - Malet Street, Bloomsbury  51.521681  -0.130432   \n",
       "..                                                 ...        ...        ...   \n",
       "792               003444 - Penywern Road, Earl's Court  51.491594  -0.192369   \n",
       "793                 003465 - Eccleston Place, Victoria  51.493951  -0.147624   \n",
       "794  200209 - Shepherd's Bush Road North, Shepherd'...  51.501595  -0.222293   \n",
       "795                001164 - Portland Place, Marylebone  51.520715  -0.145212   \n",
       "796            200106 - Spanish Road, Clapham Junction  51.459225  -0.180885   \n",
       "\n",
       "     Free Bikes  \n",
       "0            12  \n",
       "1            36  \n",
       "2             1  \n",
       "3            19  \n",
       "4            24  \n",
       "..          ...  \n",
       "792           0  \n",
       "793           8  \n",
       "794          27  \n",
       "795           4  \n",
       "796          18  \n",
       "\n",
       "[797 rows x 4 columns]"
      ]
     },
     "execution_count": 3,
     "metadata": {},
     "output_type": "execute_result"
    }
   ],
   "source": [
    "# Create a DataFrame with the extracted details\n",
    "citybikes_df = pd.DataFrame({\n",
    "    'Station Name': name,\n",
    "    'Latitude': latitudes,\n",
    "    'Longitude': longitudes,\n",
    "    'Free Bikes': free_bikes\n",
    "})\n",
    "\n",
    "citybikes_df\n"
   ]
  },
  {
   "cell_type": "code",
   "execution_count": 5,
   "metadata": {},
   "outputs": [],
   "source": [
    "# Specify the file path for the CSV\n",
    "csv_file_path = \"../data/london_city_bikes.csv\"\n",
    "\n",
    "# Save the DataFrame to CSV\n",
    "citybikes_df.to_csv(csv_file_path, index=False)"
   ]
  },
  {
   "cell_type": "code",
   "execution_count": null,
   "metadata": {},
   "outputs": [],
   "source": []
  }
 ],
 "metadata": {
  "kernelspec": {
   "display_name": "Python 3 (ipykernel)",
   "language": "python",
   "name": "python3"
  },
  "language_info": {
   "codemirror_mode": {
    "name": "ipython",
    "version": 3
   },
   "file_extension": ".py",
   "mimetype": "text/x-python",
   "name": "python",
   "nbconvert_exporter": "python",
   "pygments_lexer": "ipython3",
   "version": "3.10.13"
  }
 },
 "nbformat": 4,
 "nbformat_minor": 4
}
